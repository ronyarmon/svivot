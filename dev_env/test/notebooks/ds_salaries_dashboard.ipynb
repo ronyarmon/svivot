{
 "cells": [
  {
   "cell_type": "markdown",
   "id": "ae8acc16",
   "metadata": {},
   "source": [
    "# Data Science Jobs Dashboard\n",
    "source: https://towardsdatascience.com/using-panel-to-build-data-dashboards-in-python-e87a04c9034d  \n",
    "dataset: https://www.kaggle.com/code/sumon9300/data-science-job-salaries/input"
   ]
  },
  {
   "cell_type": "code",
   "execution_count": 1,
   "id": "d8543520",
   "metadata": {},
   "outputs": [],
   "source": [
    "import os, getpass\n",
    "import pandas as pd\n",
    "import numpy as np\n",
    "import seaborn as sns\n",
    "import holoviews as hv\n",
    "import hvplot.pandas\n",
    "import panel as pn\n",
    "from pylab import *\n",
    "hv.extension('bokeh')\n",
    "pn.extension()"
   ]
  },
  {
   "cell_type": "markdown",
   "id": "3bbd4ab8",
   "metadata": {},
   "source": [
    "## Data Setup"
   ]
  },
  {
   "cell_type": "code",
   "execution_count": 2,
   "id": "9c0733d5",
   "metadata": {},
   "outputs": [],
   "source": [
    "data_dir = os.path.join('/home', getpass.getuser(), 'data')\n",
    "jobs = pd.read_csv(os.path.join(data_dir, 'ds_salaries.csv'), index_col=0)\n",
    "jobs['experience_level'] = jobs['experience_level'].map({'SE':'Senior', 'MI':'Intermediate','EN':'Junior', 'EX':'Executive'})\n",
    "jobs['employment_type'] = jobs['employment_type'].map({'PT':'Part-time','FT': 'Full-time', 'CT': 'Contract','FL':'Freelance'})\n",
    "jobs['company_size'] = jobs['company_size'].map({'M': 'Medium', 'L': 'Large', 'S':'Small'})\n",
    "jobs.drop(['salary', 'salary_currency'], axis=1, inplace=True)"
   ]
  },
  {
   "cell_type": "code",
   "execution_count": 3,
   "id": "3fcda582",
   "metadata": {},
   "outputs": [],
   "source": [
    "jobs.head()"
   ]
  },
  {
   "cell_type": "code",
   "execution_count": 4,
   "id": "57f1f12a",
   "metadata": {},
   "outputs": [],
   "source": [
    "# Find Unique Countries\n",
    "countries = list(set(jobs['company_location']) | set(jobs['employee_residence']))\n",
    "\n",
    "# Create seperate df for country locations\n",
    "locationsDf = pd.DataFrame(countries, columns = [\"Countries\"])\n",
    "\n",
    "cmap = cm.get_cmap('Spectral', 59)\n",
    "colors = [matplotlib.colors.rgb2hex(cmap(i)) for i in range(cmap.N)]\n",
    "locationsDf[\"colors\"] = colors\n",
    "\n",
    "locationsDf.head()"
   ]
  },
  {
   "cell_type": "markdown",
   "id": "1e6b4935",
   "metadata": {},
   "source": [
    "### Boxplot Example"
   ]
  },
  {
   "cell_type": "code",
   "execution_count": 5,
   "id": "cdcbe608",
   "metadata": {},
   "outputs": [],
   "source": [
    "colors = {\n",
    "    'Intermediate': '#1f77b4',\n",
    "    'Senior': '#ff7f0e',\n",
    "    'Junior': '#2ca02c',\n",
    "    'Executive': '#324d67'\n",
    "}\n",
    "box = jobs.hvplot.box('salary_in_usd', by=[\"experience_level\"],c='experience_level',\n",
    "                      cmap=colors, width=600, height=350, legend=False,\n",
    "                      yformatter='%.0f').opts(xlabel=\"Experience Level\", ylabel=\"Salary (USD)\")\n",
    "\n",
    "box"
   ]
  },
  {
   "cell_type": "markdown",
   "id": "571d6850",
   "metadata": {},
   "source": [
    "### Salary by Experience Level Barplot Example "
   ]
  },
  {
   "cell_type": "code",
   "execution_count": 6,
   "id": "1f1cf15a",
   "metadata": {},
   "outputs": [],
   "source": [
    "def plot_bars1(year):\n",
    "    year_df = jobs[jobs['work_year'] == year]\n",
    "    return year_df.hvplot.bar('experience_level', 'salary_in_usd', c='experience_level',\n",
    "                       cmap=colors, height=350, width=600, legend=False,\n",
    "                       yformatter='%.0f').aggregate(function=np.mean).opts(xlabel=\"Experience Level\",\n",
    "                                               ylabel=\"Avg Salary (USD)\",\n",
    "                                               title=\"Average Salary by Experience Level in 2021\")"
   ]
  },
  {
   "cell_type": "code",
   "execution_count": 7,
   "id": "08905191",
   "metadata": {},
   "outputs": [],
   "source": [
    "plot_bars1(2021)"
   ]
  },
  {
   "cell_type": "markdown",
   "id": "5302e3c2",
   "metadata": {},
   "source": [
    "### Year Slider Example"
   ]
  },
  {
   "cell_type": "code",
   "execution_count": 8,
   "id": "4310a345",
   "metadata": {},
   "outputs": [],
   "source": [
    "pn.extension(sizing_mode='fixed')\n",
    "\n",
    "year = pn.widgets.IntSlider(name='Year Slider', width=200,\n",
    "                                 start=2020, end=2022, value=(2020),\n",
    "                                 step=1,value_throttled=(2020))\n",
    "\n",
    "year"
   ]
  },
  {
   "cell_type": "code",
   "execution_count": 9,
   "id": "efce711f",
   "metadata": {},
   "outputs": [],
   "source": [
    "@pn.depends(year.param.value_throttled)\n",
    "def year_selected(year):\n",
    "    return '### Jobs in {}'.format(year)\n",
    "\n",
    "pn.Row(year_selected)"
   ]
  },
  {
   "cell_type": "markdown",
   "id": "de63fddd",
   "metadata": {},
   "source": [
    "### Final Plots"
   ]
  },
  {
   "cell_type": "code",
   "execution_count": 10,
   "id": "26eb826b",
   "metadata": {},
   "outputs": [],
   "source": [
    "country_colors_dict = dict(zip(locationsDf['Countries'], locationsDf['colors']))"
   ]
  },
  {
   "cell_type": "code",
   "execution_count": 11,
   "id": "61c18862",
   "metadata": {},
   "outputs": [],
   "source": [
    "@pn.depends(year.param.value_throttled)\n",
    "def plot_bars2(year):\n",
    "    year_df = jobs[jobs['work_year'] == year]\n",
    "    df = pd.DataFrame(year_df.groupby('employee_residence')[['salary_in_usd']]\n",
    "                      .mean().sort_values('salary_in_usd', ascending=False).round(2).head(10))\n",
    "    df['employee_residence'] = df.index\n",
    "    return df.hvplot.bar(x='employee_residence', y='salary_in_usd',c='employee_residence',\n",
    "                         cmap=country_colors_dict, min_height=250, min_width=400, legend=False, yformatter='%.0f', \n",
    "                         responsive=True).opts(xlabel=\"Employee Residence\", ylabel=\"Avg Salary (USD)\")"
   ]
  },
  {
   "cell_type": "code",
   "execution_count": 12,
   "id": "1a7eb193",
   "metadata": {},
   "outputs": [],
   "source": [
    "plot_bars2(2021)"
   ]
  },
  {
   "cell_type": "code",
   "execution_count": 13,
   "id": "3784cf40",
   "metadata": {},
   "outputs": [],
   "source": [
    "@pn.depends(year.param.value_throttled)\n",
    "def plot_bars3(year):\n",
    "        \"\"\"Plot salary based on company location and subset by the year\"\"\"\n",
    "        year_df = jobs[jobs['work_year'] == year]\n",
    "        df = pd.DataFrame(year_df.groupby('company_location')[['salary_in_usd']]\n",
    "                          .mean().sort_values('salary_in_usd', ascending=False).round(3).head(10))\n",
    "        df['company_location'] = df.index\n",
    "        return df.hvplot.bar(x='company_location', y='salary_in_usd',\n",
    "                             c='company_location', cmap=country_colors_dict, \n",
    "                             min_height=250, min_width=400, legend=False, yformatter='%.0f', \n",
    "                             responsive=True).opts(xlabel=\"Company Location\", ylabel=\"Avg Salary (USD)\")"
   ]
  },
  {
   "cell_type": "code",
   "execution_count": 14,
   "id": "ff9a4b69",
   "metadata": {},
   "outputs": [],
   "source": [
    "plot_bars3(2021)"
   ]
  },
  {
   "cell_type": "code",
   "execution_count": 15,
   "id": "83f96a36",
   "metadata": {},
   "outputs": [],
   "source": [
    "@pn.depends(year.param.value_throttled)\n",
    "def plot_bars4(year):\n",
    "    year_df = jobs[jobs['work_year'] == year]\n",
    "    df = pd.DataFrame(year_df.groupby('company_size')[['salary_in_usd']]\n",
    "                          .mean().sort_values('salary_in_usd', ascending=False).round(3).head(10))\n",
    "    df['company_size'] = df.index\n",
    "    colors_dict = dict(zip(df['company_size'], hv.Cycle('Category10').values))\n",
    "    return  df.hvplot.bar(x='company_size', y='salary_in_usd',\n",
    "                          c='company_size', cmap=colors_dict, \n",
    "                          min_height=250, min_width=400, legend=False, yformatter='%.0f', \n",
    "                          responsive=True).opts(xlabel=\"Company Size\", ylabel=\"Avg Salary (USD)\")"
   ]
  },
  {
   "cell_type": "code",
   "execution_count": 16,
   "id": "3270fa29",
   "metadata": {},
   "outputs": [],
   "source": [
    "plot_bars4(2021)"
   ]
  },
  {
   "cell_type": "code",
   "execution_count": 17,
   "id": "c09a4a13",
   "metadata": {},
   "outputs": [],
   "source": [
    "colors = {\n",
    "    'Intermediate': '#1f77b4',\n",
    "    'Senior': '#ff7f0e',\n",
    "    'Junior': '#2ca02c',\n",
    "    'Executive': '#324d67'\n",
    "}\n",
    "\n",
    "@pn.depends(year.param.value_throttled)\n",
    "def plot_bars1(year):\n",
    "    year_df = jobs[jobs['work_year'] == year]\n",
    "    return year_df.hvplot.bar('experience_level', 'salary_in_usd', c='experience_level',\n",
    "                       cmap=colors, responsive=True, min_height=250, min_width=400, legend=False,\n",
    "                       yformatter='%.0f').aggregate(function=np.mean).opts(xlabel=\"Experience Level\",\n",
    "                                                                           ylabel=\"Avg Salary (USD)\")"
   ]
  },
  {
   "cell_type": "markdown",
   "id": "f6dbabc5",
   "metadata": {},
   "source": [
    "## Building the Dashboard"
   ]
  },
  {
   "cell_type": "code",
   "execution_count": 18,
   "id": "9ddb845d",
   "metadata": {},
   "outputs": [],
   "source": [
    "plots_box = pn.WidgetBox(pn.Column(pn.Row(year_selected, year)\n",
    "                                   ,pn.Row(pn.bind(plot_bars1,year), \n",
    "                                   pn.bind(plot_bars4,year)), pn.Row(pn.bind(plot_bars2,year), \n",
    "                                   pn.bind(plot_bars3,year)), align=\"start\",\n",
    "                                   sizing_mode=\"stretch_width\"))\n",
    "\n",
    "dashboard = pn.Row(plots_box, sizing_mode=\"stretch_width\")"
   ]
  },
  {
   "cell_type": "code",
   "execution_count": 19,
   "id": "aa23d1ba",
   "metadata": {},
   "outputs": [],
   "source": [
    "dashboard"
   ]
  },
  {
   "cell_type": "code",
   "execution_count": null,
   "id": "0deefd8b-1355-4bc4-bf15-f4a328513fd4",
   "metadata": {},
   "outputs": [],
   "source": []
  }
 ],
 "metadata": {
  "kernelspec": {
   "display_name": "Python 3 (ipykernel)",
   "language": "python",
   "name": "python3"
  },
  "language_info": {
   "codemirror_mode": {
    "name": "ipython",
    "version": 3
   },
   "file_extension": ".py",
   "mimetype": "text/x-python",
   "name": "python",
   "nbconvert_exporter": "python",
   "pygments_lexer": "ipython3",
   "version": "3.10.6"
  }
 },
 "nbformat": 4,
 "nbformat_minor": 5
}
