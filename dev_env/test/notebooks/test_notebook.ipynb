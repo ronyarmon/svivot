{
 "cells": [
  {
   "cell_type": "code",
   "execution_count": null,
   "id": "73545ef3",
   "metadata": {},
   "outputs": [],
   "source": [
    "import pandas as pd\n",
    "import numpy as np\n",
    "from scipy.stats import zscore\n",
    "import matplotlib.pyplot as plt\n",
    "import seaborn as sns\n",
    "import random\n",
    "import folium\n",
    "import os, shutil\n",
    "if 'results' in os.listdir(): shutil.rmtree('results')\n",
    "os.mkdir('results')\n",
    "\n",
    "'''\n",
    "Source: https://www.kaggle.com/competitions/store-sales-time-series-forecasting\n",
    "Dataset: train.csv\n",
    "store_nbr: the store at which the products are sold.\n",
    "family: the type of product sold.\n",
    "sales: the total sales for a product family at a particular store at a given date. \n",
    "Fractional values are possible since products can be sold in fractional units \n",
    "(1.5 kg of cheese, for instance, as opposed to 1 bag of chips).\n",
    "onpromotion: the total number of items in a product family that were being promoted at a store at a given date.\n",
    "'''\n",
    "print('Pandas dataframe: Sales data')\n",
    "sales = pd.read_csv('../../data/sales.csv.zip')\n",
    "sales = sales.rename(columns={'family':'product_type', 'store_nbr': 'store_id'})\n",
    "# Remove product categories\n",
    "categories = ['GROCERY I', 'GROCERY II', 'HOME AND KITCHEN I', 'HOME AND KITCHEN II']\n",
    "sales = sales[~sales['product_type'].isin(categories)]\n",
    "print(sales.head())"
   ]
  },
  {
   "cell_type": "code",
   "execution_count": null,
   "id": "eaba7846",
   "metadata": {},
   "outputs": [],
   "source": [
    "print('Sales values')\n",
    "print(sales['sales'].value_counts())"
   ]
  },
  {
   "cell_type": "code",
   "execution_count": null,
   "id": "fc32dd5a",
   "metadata": {},
   "outputs": [],
   "source": [
    "print('Sales grouped by family')\n",
    "sales_sum = sales.groupby('product_type')['sales'].sum()\n",
    "sales_sum = pd.DataFrame(list(zip(sales_sum.index, sales_sum.values)), columns = ['product', 'items'])\n",
    "sales_sum['z_score'] = sales_sum[['items']].transform(zscore)\n",
    "print('mean zscore=', np.mean(np.abs((sales_sum['z_score']))))"
   ]
  },
  {
   "cell_type": "markdown",
   "id": "9e0e08a7",
   "metadata": {},
   "source": [
    "## Bar Plot Data"
   ]
  },
  {
   "cell_type": "code",
   "execution_count": null,
   "id": "56ae8a79",
   "metadata": {},
   "outputs": [],
   "source": [
    "bar_plot_data = sales_sum[sales_sum['product'].isin(['EGGS', 'DAIRY', 'MEATS', 'POULTRY', 'SEAFOOD', 'BREAD/BAKERY'])]\n",
    "# Add locations\n",
    "loc = (51.5072, 0.1276)  # London 51.5072° N, 0.1276° W\n",
    "locations = [(loc[0]+i, loc[1]+i) for i in np.arange(0.1,0.7, 0.1)]\n",
    "sales_sum['location'] = random.choices(locations, k=len(sales_sum))\n",
    "print(bar_plot_data)"
   ]
  },
  {
   "cell_type": "markdown",
   "id": "be885b71",
   "metadata": {},
   "source": [
    "# Plots"
   ]
  },
  {
   "cell_type": "markdown",
   "id": "7c341e41",
   "metadata": {},
   "source": [
    "## Matplotlib"
   ]
  },
  {
   "cell_type": "code",
   "execution_count": null,
   "id": "94ffb222",
   "metadata": {},
   "outputs": [],
   "source": [
    "print('Prepare and save bar plots')\n",
    "bar_colors = ['tab:red', 'tab:blue', 'tab:green', 'tab:orange']\n",
    "food, sum = list(bar_plot_data['product']), list(bar_plot_data['items'])\n",
    "plt.bar(food, sum, color=bar_colors)\n",
    "plt.show()"
   ]
  },
  {
   "cell_type": "markdown",
   "id": "37fd9756",
   "metadata": {},
   "source": [
    "## Seaborn"
   ]
  },
  {
   "cell_type": "code",
   "execution_count": null,
   "id": "b81bebf2",
   "metadata": {},
   "outputs": [],
   "source": [
    "sns.barplot(x='product', y='items', data=bar_plot_data)\n",
    "plt.show()"
   ]
  },
  {
   "cell_type": "markdown",
   "id": "6f10f368",
   "metadata": {},
   "source": [
    "## Bokeh "
   ]
  },
  {
   "cell_type": "code",
   "execution_count": null,
   "id": "6d7079be",
   "metadata": {},
   "outputs": [],
   "source": [
    "from bokeh.models import ColumnDataSource\n",
    "from bokeh.palettes import Bright6\n",
    "from bokeh.plotting import figure, show\n",
    "from bokeh.io import output_notebook\n",
    "from bokeh.transform import factor_cmap\n",
    "source = ColumnDataSource(data=dict(food=food, sum=sum))\n",
    "TOOLS=\"hover,crosshair,pan,wheel_zoom,zoom_in,zoom_out,\\\n",
    "box_zoom,undo,redo,reset,tap,save,box_select,poly_select,lasso_select,examine,help\"\n",
    "p = figure(x_range=food, height=350, tools=TOOLS, title=\"Fruit sum\")\n",
    "p.vbar(x='food', top='sum', width=0.9, source=source, legend_field=\"food\",\n",
    "       line_color='white', fill_color=factor_cmap('food', palette=Bright6, factors=food))\n",
    "p.xgrid.grid_line_color = None\n",
    "p.legend.orientation = \"horizontal\"\n",
    "p.legend.location = \"top_center\"\n",
    "output_notebook()\n",
    "show(p)"
   ]
  },
  {
   "cell_type": "markdown",
   "id": "7245ecc6",
   "metadata": {},
   "source": [
    "## Folium map"
   ]
  },
  {
   "cell_type": "code",
   "execution_count": null,
   "id": "3418021c",
   "metadata": {},
   "outputs": [],
   "source": [
    "m = folium.Map(location=loc, zoom_start=4)\n",
    "tooltip = \"Click me!\"\n",
    "for location in locations:\n",
    "    folium.Marker(location, popup=\"<i>Mt. Hood Meadows</i>\", tooltip=tooltip).add_to(m)\n",
    "m"
   ]
  },
  {
   "cell_type": "code",
   "execution_count": null,
   "id": "e01fdb27",
   "metadata": {},
   "outputs": [],
   "source": []
  }
 ],
 "metadata": {
  "kernelspec": {
   "display_name": "Python 3 (ipykernel)",
   "language": "python",
   "name": "python3"
  },
  "language_info": {
   "codemirror_mode": {
    "name": "ipython",
    "version": 3
   },
   "file_extension": ".py",
   "mimetype": "text/x-python",
   "name": "python",
   "nbconvert_exporter": "python",
   "pygments_lexer": "ipython3",
   "version": "3.10.6"
  }
 },
 "nbformat": 4,
 "nbformat_minor": 5
}
