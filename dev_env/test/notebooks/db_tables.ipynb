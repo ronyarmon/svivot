{
 "cells": [
  {
   "cell_type": "code",
   "execution_count": 1,
   "id": "ee60f428",
   "metadata": {},
   "outputs": [
    {
     "name": "stdout",
     "output_type": "stream",
     "text": [
      "[(1, 'jack', 'jack@gogo.com')]\n",
      "   name          email\n",
      "0  john  john@gogo.com\n",
      "1  jean  jean@gogo.com\n",
      "engine connection test\n",
      "   id  name          email\n",
      "0   1  jack  jack@gogo.com\n",
      "1   2  john  john@gogo.com\n",
      "2   3  jean  jean@gogo.com\n"
     ]
    },
    {
     "data": {
      "text/plain": [
       "<sqlalchemy.engine.cursor.LegacyCursorResult at 0x7f8fe94c2e90>"
      ]
     },
     "execution_count": 1,
     "metadata": {},
     "output_type": "execute_result"
    }
   ],
   "source": [
    "import pandas as pd\n",
    "from sqlalchemy import create_engine\n",
    "import psycopg2\n",
    "from psycopg2.extensions import ISOLATION_LEVEL_AUTOCOMMIT\n",
    "db_name, db_user, db_password, db_host = 'testdb', 'postgres', 'postgres', 'localhost'\n",
    "conn = psycopg2.connect(database=db_name, user=db_user, password=db_password,\\\n",
    "                         host=db_host, port='5432')\n",
    "conn.set_isolation_level(ISOLATION_LEVEL_AUTOCOMMIT)\n",
    "cur = conn.cursor()\n",
    "engine = create_engine(f'postgresql+psycopg2://{db_user}:{db_password}@{db_host}/{db_name}',\\\n",
    "                       pool_pre_ping=True)\n",
    "# Create table\n",
    "cur.execute('DROP TABLE IF EXISTS users')\n",
    "cur.execute(\"\"\"\n",
    "             CREATE TABLE IF NOT EXISTS users(\n",
    "             id SERIAL PRIMARY KEY,\n",
    "             name VARCHAR (50) NOT NULL,\n",
    "             email VARCHAR (50) UNIQUE NOT NULL) \n",
    "             \"\"\")\n",
    "cur.execute(\"\"\"INSERT INTO users\n",
    "                       (name, email)\n",
    "                       VALUES ('jack', 'jack@gogo.com')\"\"\")\n",
    "cur.execute(\"\"\"SELECT * FROM users\"\"\")\n",
    "print(cur.fetchall())\n",
    "names_emails = {'name':['john', 'jean'], 'email':['john@gogo.com','jean@gogo.com']}\n",
    "users_df = pd.DataFrame.from_dict(names_emails)\n",
    "print(users_df)\n",
    "users_df.to_sql('users', con=engine, index=False, if_exists='append')\n",
    "print ('engine connection test')\n",
    "users_df = pd.read_sql(f'SELECT * FROM users', con=engine)\n",
    "print(users_df)\n",
    "engine.execute('DROP TABLE IF EXISTS users')"
   ]
  }
 ],
 "metadata": {
  "kernelspec": {
   "display_name": "Python 3 (ipykernel)",
   "language": "python",
   "name": "python3"
  },
  "language_info": {
   "codemirror_mode": {
    "name": "ipython",
    "version": 3
   },
   "file_extension": ".py",
   "mimetype": "text/x-python",
   "name": "python",
   "nbconvert_exporter": "python",
   "pygments_lexer": "ipython3",
   "version": "3.10.6"
  }
 },
 "nbformat": 4,
 "nbformat_minor": 5
}
