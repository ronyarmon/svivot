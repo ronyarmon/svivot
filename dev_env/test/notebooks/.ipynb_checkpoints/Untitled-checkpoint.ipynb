{
 "cells": [
  {
   "cell_type": "code",
   "execution_count": 1,
   "id": "ee60f428",
   "metadata": {},
   "outputs": [
    {
     "name": "stdout",
     "output_type": "stream",
     "text": [
      "[(1, 'jack', 'jack@gogo.com')]\n",
      "   name          email\n",
      "0  john  john@gogo.com\n",
      "1  jean  jean@gogo.com\n",
      "engine connection test\n",
      "   id  name          email\n",
      "0   1  jack  jack@gogo.com\n",
      "1   2  john  john@gogo.com\n",
      "2   3  jean  jean@gogo.com\n"
     ]
    },
    {
     "data": {
      "text/plain": [
       "<sqlalchemy.engine.cursor.LegacyCursorResult at 0x7f57bd61fc10>"
      ]
     },
     "execution_count": 1,
     "metadata": {},
     "output_type": "execute_result"
    }
   ],
   "source": [
    "import pandas as pd\n",
    "from sqlalchemy import create_engine\n",
    "db_name, db_user, db_password, db_host = 'testdb', 'postgres', 'postgres', 'localhost'\n",
    "engine = create_engine(f'postgresql+psycopg2://{db_user}:{db_password}@{db_host}/{db_name}',\\\n",
    "                       pool_pre_ping=True)\n",
    "# Create table\n",
    "engine.execute('DROP TABLE IF EXISTS users')\n",
    "engine.execute(\"\"\"\n",
    "             CREATE TABLE IF NOT EXISTS users(\n",
    "             id SERIAL PRIMARY KEY,\n",
    "             name VARCHAR (50) NOT NULL,\n",
    "             email VARCHAR (50) UNIQUE NOT NULL) \n",
    "             \"\"\")\n",
    "engine.execute(\"\"\"INSERT INTO users\n",
    "                       (name, email)\n",
    "                       VALUES ('jack', 'jack@gogo.com')\"\"\")\n",
    "print(list(engine.execute(\"\"\"SELECT * FROM users\"\"\")))\n",
    "names_emails = {'name':['john', 'jean'], 'email':['john@gogo.com','jean@gogo.com']}\n",
    "users_df = pd.DataFrame.from_dict(names_emails)\n",
    "print(users_df)\n",
    "users_df.to_sql('users', con=engine, index=False, if_exists='append')\n",
    "print ('engine connection test')\n",
    "users_df = pd.read_sql(f'SELECT * FROM users', con=engine)\n",
    "print(users_df)\n",
    "engine.execute('DROP TABLE IF EXISTS users')"
   ]
  }
 ],
 "metadata": {
  "kernelspec": {
   "display_name": "Python 3 (ipykernel)",
   "language": "python",
   "name": "python3"
  },
  "language_info": {
   "codemirror_mode": {
    "name": "ipython",
    "version": 3
   },
   "file_extension": ".py",
   "mimetype": "text/x-python",
   "name": "python",
   "nbconvert_exporter": "python",
   "pygments_lexer": "ipython3",
   "version": "3.10.6"
  }
 },
 "nbformat": 4,
 "nbformat_minor": 5
}
