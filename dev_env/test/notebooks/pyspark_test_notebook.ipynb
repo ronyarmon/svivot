{
 "cells": [
  {
   "cell_type": "code",
   "execution_count": 1,
   "id": "9ee00e3b",
   "metadata": {},
   "outputs": [
    {
     "name": "stderr",
     "output_type": "stream",
     "text": [
      "23/07/27 16:49:14 WARN Utils: Your hostname, rony resolves to a loopback address: 127.0.1.1; using 10.0.0.26 instead (on interface wlp1s0)\n",
      "23/07/27 16:49:14 WARN Utils: Set SPARK_LOCAL_IP if you need to bind to another address\n",
      "Setting default log level to \"WARN\".\n",
      "To adjust logging level use sc.setLogLevel(newLevel). For SparkR, use setLogLevel(newLevel).\n",
      "23/07/27 16:49:14 WARN NativeCodeLoader: Unable to load native-hadoop library for your platform... using builtin-java classes where applicable\n",
      "                                                                                \r"
     ]
    },
    {
     "name": "stdout",
     "output_type": "stream",
     "text": [
      "+---+---+\n",
      "| id|txt|\n",
      "+---+---+\n",
      "|  0|foo|\n",
      "|  1|foo|\n",
      "|  2|foo|\n",
      "|  3|foo|\n",
      "|  4|foo|\n",
      "|  5|foo|\n",
      "|  6|foo|\n",
      "|  7|foo|\n",
      "|  8|foo|\n",
      "|  9|foo|\n",
      "+---+---+\n",
      "only showing top 10 rows\n",
      "\n",
      "From CSV: appl_stock\n",
      "+----------+----------+----------+----------+----------+----------+---------+\n",
      "|      Date|      Open|      High|       Low|     Close| Adj Close|   Volume|\n",
      "+----------+----------+----------+----------+----------+----------+---------+\n",
      "|2014-09-29|100.589996|100.690002| 98.040001| 99.620003|  93.51429|142718700|\n",
      "|2014-10-06| 99.949997|102.379997| 98.309998|100.730003| 94.556244|280258200|\n",
      "|2014-10-13|101.330002|101.779999|     95.18| 97.669998| 91.683792|358539800|\n",
      "|2014-10-20|     98.32|105.489998| 98.220001|105.220001| 98.771042|358532900|\n",
      "|2014-10-27|104.849998|108.040001|104.699997|     108.0|101.380676|220230600|\n",
      "|2014-11-03|108.220001|110.300003|107.720001|109.010002|102.328766|199952900|\n",
      "|2014-11-10|109.019997|114.190002|108.400002|    114.18|107.646675|205166700|\n",
      "|2014-11-17|114.269997|    117.57|113.300003|116.470001|109.805626|233414700|\n",
      "|2014-11-24|116.849998|    119.75|116.620003|    118.93|112.124863|181873900|\n",
      "|2014-12-01|118.809998|    119.25|111.269997|     115.0|108.419746|266589700|\n",
      "+----------+----------+----------+----------+----------+----------+---------+\n",
      "only showing top 10 rows\n",
      "\n"
     ]
    }
   ],
   "source": [
    "import os, getpass\n",
    "from pyspark.sql.types import (StructField, StructType, StringType, IntegerType)\n",
    "from pyspark.sql import SparkSession\n",
    "spark = SparkSession.builder.appName(\"ex1\").getOrCreate()\n",
    "data_dir = os.path.join('/home', getpass.getuser(), 'data')\n",
    "\n",
    "## From tuples array\n",
    "data = [(i, 'foo') for i in range(1000)]\n",
    "columns = ['id', 'txt']\n",
    "# Infer schema\n",
    "df = spark.createDataFrame(data, columns)\n",
    "df.show(10)\n",
    "\n",
    "# From CSV File\n",
    "file_name = 'AAPL.csv'\n",
    "df = spark.read.csv(os.path.join(data_dir, file_name), header=True, inferSchema=True)\n",
    "print('From CSV: appl_stock')\n",
    "df.show(10)"
   ]
  },
  {
   "cell_type": "code",
   "execution_count": null,
   "id": "3c71ca1c",
   "metadata": {},
   "outputs": [],
   "source": []
  }
 ],
 "metadata": {
  "kernelspec": {
   "display_name": "Python 3 (ipykernel)",
   "language": "python",
   "name": "python3"
  },
  "language_info": {
   "codemirror_mode": {
    "name": "ipython",
    "version": 3
   },
   "file_extension": ".py",
   "mimetype": "text/x-python",
   "name": "python",
   "nbconvert_exporter": "python",
   "pygments_lexer": "ipython3",
   "version": "3.10.6"
  }
 },
 "nbformat": 4,
 "nbformat_minor": 5
}
